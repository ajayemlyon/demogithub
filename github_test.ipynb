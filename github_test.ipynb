{
 "cells": [
  {
   "cell_type": "markdown",
   "metadata": {},
   "source": [
    "Question -1 We would like to create a program that repeatedly asks for the input of a \"name\" and prints out \"Hi [name]! Good to see you!\" (replace [name] with the name the user entered). If the user enter \"Bob\", stop the program and print out \"oh, not you, Bob!\"."
   ]
  },
  {
   "cell_type": "code",
   "execution_count": 1,
   "metadata": {},
   "outputs": [],
   "source": [
    "def name():\n",
    "    bob_msg = \"On not you, Bob!\"\n",
    "    Other_msg = \"Hi [name]! Good to see you!\"\n",
    "    while (True):\n",
    "        name = input(\"Enter the name: \")\n",
    "        if(name == 'Bob'):\n",
    "            print(bob_msg)\n",
    "            \n",
    "            break\n",
    "            \n",
    "        else:\n",
    "            print(Other_msg.format(name))"
   ]
  },
  {
   "cell_type": "code",
   "execution_count": 2,
   "metadata": {},
   "outputs": [
    {
     "name": "stdout",
     "output_type": "stream",
     "text": [
      "Enter the name: ajay\n",
      "Hi [name]! Good to see you!\n",
      "Enter the name: John\n",
      "Hi [name]! Good to see you!\n",
      "Enter the name: Bob\n",
      "On not you, Bob!\n"
     ]
    }
   ],
   "source": [
    "name()"
   ]
  },
  {
   "cell_type": "code",
   "execution_count": null,
   "metadata": {},
   "outputs": [],
   "source": []
  }
 ],
 "metadata": {
  "kernelspec": {
   "display_name": "Python 3",
   "language": "python",
   "name": "python3"
  },
  "language_info": {
   "codemirror_mode": {
    "name": "ipython",
    "version": 3
   },
   "file_extension": ".py",
   "mimetype": "text/x-python",
   "name": "python",
   "nbconvert_exporter": "python",
   "pygments_lexer": "ipython3",
   "version": "3.7.1"
  }
 },
 "nbformat": 4,
 "nbformat_minor": 2
}
